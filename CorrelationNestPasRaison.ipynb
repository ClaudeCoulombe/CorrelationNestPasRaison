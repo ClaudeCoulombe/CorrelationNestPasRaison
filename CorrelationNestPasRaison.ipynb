{
 "cells": [
  {
   "cell_type": "markdown",
   "metadata": {},
   "source": [
    "# Corrélation n'est pas raison\n",
    "\n",
    "Une petite expérience qui consiste à lancer deux «dés virtuels» une dizaine de fois pour montrer qu'il est facile d'obtenir un facteur p arbitraitrement petit en répétant suffisamment de fois l'expérience. \n",
    "\n",
    "Dans le cas qui nous intéresse, nous répétons l'expérience jusqu'à obtenir un facteur p de 0.05 ou moins (ce qui correspond à une correlation de plus de 0.632 entre les séries de nombre tirés aléatoirement)."
   ]
  },
  {
   "cell_type": "markdown",
   "metadata": {},
   "source": [
    "## Lancer de deux pièces de monnaie"
   ]
  },
  {
   "cell_type": "code",
   "execution_count": 248,
   "metadata": {},
   "outputs": [
    {
     "name": "stdout",
     "output_type": "stream",
     "text": [
      "Lancers du dé 1:  [1 1 1 1 2 1 1 1 1 2]\n",
      "Lancers du dé 2:  [1 1 1 1 2 1 1 1 1 2]\n",
      "Corrélation:  1.0\n",
      "p: 0.0 inférieur ou égal à 0.0\n",
      "Nombre de répétitions de l'expérience:  296\n"
     ]
    }
   ],
   "source": [
    "import numpy as np\n",
    "from scipy.stats import pearsonr\n",
    "\n",
    "facteur_p_max = 0.0\n",
    "nbr_lancers = 10\n",
    "p = 0\n",
    "correlation = -1\n",
    "# pour faire varier les résultats\n",
    "germe_aleatoire = np.random.seed()\n",
    "nbr_rep_exp = 0\n",
    "\n",
    "# Note: éliminer les corrélations négatives (correlation < 0.0)\n",
    "while ((p > facteur_p_max) or (correlation < 0.0)):\n",
    "    nbr_rep_exp += 1\n",
    "    lancers_piece_1 = np.random.randint(1,3, size=nbr_lancers)\n",
    "    while np.var(lancers_piece_1) == 0.0:\n",
    "        lancers_piece_1 = np.random.randint(1,3, size=nbr_lancers)\n",
    "    lancers_piece_2 = np.random.randint(1,3, size=nbr_lancers)\n",
    "    while np.var(lancers_piece_2) == 0.0:\n",
    "        lancers_piece_2 = np.random.randint(1,3, size=nbr_lancers)\n",
    "    (correlation, p) = pearsonr(lancers_piece_1,lancers_piece_2)\n",
    "print(\"Lancers du dé 1: \",lancers_piece_1)\n",
    "print(\"Lancers du dé 2: \",lancers_piece_2)\n",
    "print('Corrélation: ', correlation)\n",
    "print('p:', p, \"inférieur ou égal à\",facteur_p_max)\n",
    "print(\"Nombre de répétitions de l'expérience: \", nbr_rep_exp)"
   ]
  },
  {
   "cell_type": "markdown",
   "metadata": {},
   "source": [
    "## Lancer de deux dés"
   ]
  },
  {
   "cell_type": "code",
   "execution_count": 258,
   "metadata": {},
   "outputs": [
    {
     "name": "stdout",
     "output_type": "stream",
     "text": [
      "Lancers du dé 1:  [4 4 1 4 1 2 3 1 1 4]\n",
      "Lancers du dé 2:  [6 6 2 6 1 3 5 1 1 6]\n",
      "Corrélation:  0.988925586589635\n",
      "p: 6.493483938588214e-08 inférieur ou égal à 1e-07\n",
      "Nombre de répétitions de l'expérience:  8552662\n"
     ]
    }
   ],
   "source": [
    "import numpy as np\n",
    "from scipy.stats import pearsonr\n",
    "\n",
    "facteur_p_max = 0.0000001\n",
    "nbr_lancers = 10\n",
    "p = 0\n",
    "correlation = -1\n",
    "# pour faire varier les résultats\n",
    "germe_aleatoire = np.random.seed()\n",
    "nbr_rep_exp = 0\n",
    "\n",
    "# Note: éliminer les corrélations négatives (correlation < 0.0)\n",
    "while ((p > facteur_p_max) or (correlation < 0.0)):\n",
    "    nbr_rep_exp += 1\n",
    "    lancers_de_1 = np.random.randint(1,7, size=nbr_lancers)\n",
    "    while np.var(lancers_de_1) == 0.0:\n",
    "        lancers_de_1 = np.random.randint(1,7, size=nbr_lancers)\n",
    "    lancers_de_2 = np.random.randint(1,7, size=nbr_lancers)\n",
    "    while np.var(lancers_de_2) == 0.0:\n",
    "        lancers_de_2 = np.random.randint(1,7, size=nbr_lancers)\n",
    "    (correlation, p) = pearsonr(lancers_de_1,lancers_de_2)\n",
    "print(\"Lancers du dé 1: \",lancers_de_1)\n",
    "print(\"Lancers du dé 2: \",lancers_de_2)\n",
    "print('Corrélation: ', correlation)\n",
    "print('p:', p, \"inférieur ou égal à\",facteur_p_max)\n",
    "print(\"Nombre de répétitions de l'expérience: \", nbr_rep_exp)"
   ]
  },
  {
   "cell_type": "code",
   "execution_count": null,
   "metadata": {},
   "outputs": [],
   "source": []
  }
 ],
 "metadata": {
  "kernelspec": {
   "display_name": "Python 3",
   "language": "python",
   "name": "python3"
  },
  "language_info": {
   "codemirror_mode": {
    "name": "ipython",
    "version": 3
   },
   "file_extension": ".py",
   "mimetype": "text/x-python",
   "name": "python",
   "nbconvert_exporter": "python",
   "pygments_lexer": "ipython3",
   "version": "3.6.5"
  }
 },
 "nbformat": 4,
 "nbformat_minor": 1
}
